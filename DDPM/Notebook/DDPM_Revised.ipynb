{
  "nbformat": 4,
  "nbformat_minor": 0,
  "metadata": {
    "colab": {
      "provenance": [],
      "gpuType": "T4",
      "collapsed_sections": [
        "gTe3sBRZWYQ1",
        "TYYwnRJcsMb-",
        "vaS_PES4p3G5"
      ]
    },
    "kernelspec": {
      "name": "python3",
      "display_name": "Python 3"
    },
    "language_info": {
      "name": "python"
    },
    "accelerator": "GPU"
  },
  "cells": [
    {
      "cell_type": "markdown",
      "source": [
        "# **Creating Images of Cracks on Walls Using DDPM**\n",
        "\n",
        "This notebook is designed for your dataset, allowing you to generate images depicting cracks on walls with 70% accuracy. Please execute each cell as instructed.\n",
        "\n",
        "If you wish to adjust parameters, you can do so by opening and editing the \"default.yaml\" file inside the \"config\" folder.\n",
        "\n",
        "<details>\n",
        "  <summary>Read more</summary>\n",
        "  <p>\n",
        "       Explanation of Parameters:\n",
        "\n",
        "dataset_params:\n",
        "\n",
        "*   im_path: Path to the folder containing training images of walls with cracks.\n",
        "\n",
        "diffusion_params:\n",
        "\n",
        "*   num_timesteps: Number of diffusion timesteps, controlling the evolution of the image.\n",
        "*   beta_start: Starting value of beta, a diffusion parameter.List item\n",
        "*   beta_end: Ending value of beta, a diffusion parameter.\n",
        "\n",
        "model_params:\n",
        "*   im_channels: Number of channels in the input images (usually 3 for RGB).\n",
        "*   im_size: Size of input images (e.g., 64x64 pixels).\n",
        "*   down_channels: Number of channels in the downsampling layers.\n",
        "*   mid_channels: Number of channels in the middle layers.\n",
        "*   down_sample: Indicates whether downsampling is applied at each layer.\n",
        "*   time_emb_dim: Dimensionality of the time embedding.\n",
        "*   num_down_layers: Number of downsampling layers.\n",
        "*   num_mid_layers: Number of middle layers.\n",
        "*   num_up_layers: Number of upsampling layers.\n",
        "*   num_heads: Number of attention heads in the model.\n",
        "\n",
        "train_params:\n",
        "*   task_name: Name of the training task.\n",
        "*   batch_size: Number of samples processed in each training iteration.\n",
        "*   num_epochs: Number of training epochs.\n",
        "*   num_samples: Number of samples generated during training.\n",
        "*   num_grid_rows: Number of rows in the grid of generated images for visualization.\n",
        "*   lr: Learning rate for training.\n",
        "*   ckpt_name: Name of the checkpoint file where model weights are saved.\n",
        "  </p>\n",
        "</details>\n",
        "\n",
        "\n",
        "\n",
        "\n",
        "\n",
        "\n",
        "\n",
        "\n",
        "\n"
      ],
      "metadata": {
        "id": "jc08DxhMnmGP"
      }
    },
    {
      "cell_type": "markdown",
      "source": [
        "# **Clone the required Github Repository**"
      ],
      "metadata": {
        "id": "gTe3sBRZWYQ1"
      }
    },
    {
      "cell_type": "code",
      "execution_count": 1,
      "metadata": {
        "colab": {
          "base_uri": "https://localhost:8080/"
        },
        "id": "wdWV023iT0au",
        "outputId": "0fc7917a-b886-4b2c-c722-ec1e5a01289e"
      },
      "outputs": [
        {
          "output_type": "stream",
          "name": "stdout",
          "text": [
            "Cloning into 'DDPM-model'...\n",
            "remote: Enumerating objects: 66, done.\u001b[K\n",
            "remote: Counting objects: 100% (66/66), done.\u001b[K\n",
            "remote: Compressing objects: 100% (54/54), done.\u001b[K\n",
            "remote: Total 66 (delta 31), reused 36 (delta 11), pack-reused 0\u001b[K\n",
            "Receiving objects: 100% (66/66), 21.74 KiB | 10.87 MiB/s, done.\n",
            "Resolving deltas: 100% (31/31), done.\n"
          ]
        }
      ],
      "source": [
        "!git clone https://github.com/mognc/DDPM-model.git"
      ]
    },
    {
      "cell_type": "code",
      "source": [
        "%cd /content/DDPM-model"
      ],
      "metadata": {
        "colab": {
          "base_uri": "https://localhost:8080/"
        },
        "id": "KKWp5dRqWdGi",
        "outputId": "01234442-f3cb-44ed-ba1a-993cc2da34c9"
      },
      "execution_count": 2,
      "outputs": [
        {
          "output_type": "stream",
          "name": "stdout",
          "text": [
            "/content/DDPM-model\n"
          ]
        }
      ]
    },
    {
      "cell_type": "markdown",
      "source": [
        "# **Create the training directory**\n",
        "Please execute this cell only if you plan to upload your dataset and train a new model file."
      ],
      "metadata": {
        "id": "TYYwnRJcsMb-"
      }
    },
    {
      "cell_type": "code",
      "source": [
        "import os\n",
        "\n",
        "# Define the path to the main directory\n",
        "main_directory = '/content/DDPM-model'\n",
        "\n",
        "# Create the 'data' folder inside the main directory\n",
        "data_folder = os.path.join(main_directory, 'data')\n",
        "os.makedirs(data_folder, exist_ok=True)\n",
        "\n",
        "# Create the 'train' folder inside the 'data' folder\n",
        "train_folder = os.path.join(data_folder, 'train')\n",
        "os.makedirs(train_folder, exist_ok=True)\n",
        "\n",
        "# Create the 'images' folder inside the 'train' folder\n",
        "images_folder = os.path.join(train_folder, 'images')\n",
        "os.makedirs(images_folder, exist_ok=True)\n",
        "\n",
        "print(\"Directory structure created successfully.\")"
      ],
      "metadata": {
        "colab": {
          "base_uri": "https://localhost:8080/"
        },
        "id": "e-_K8M5VsFHp",
        "outputId": "43d2b269-1e4d-42e5-cb00-111b51d8372f"
      },
      "execution_count": 5,
      "outputs": [
        {
          "output_type": "stream",
          "name": "stdout",
          "text": [
            "Directory structure created successfully.\n"
          ]
        }
      ]
    },
    {
      "cell_type": "markdown",
      "source": [
        "# **Mount your Google drive and upload your images**\n",
        "\n",
        "Note:\n",
        "You don't need to execute this cell if you intend to upload your dataset or pre-trained model file locally from your PC"
      ],
      "metadata": {
        "id": "sE-N19OOdGTK"
      }
    },
    {
      "cell_type": "code",
      "source": [
        "from google.colab import drive\n",
        "\n",
        "\n",
        "# Mount Google Drive\n",
        "drive.mount('/content/drive')"
      ],
      "metadata": {
        "colab": {
          "base_uri": "https://localhost:8080/"
        },
        "id": "4gx8Mc76dCfq",
        "outputId": "319fa14f-e784-4b9e-b9e5-f1b791d86cbf"
      },
      "execution_count": null,
      "outputs": [
        {
          "output_type": "stream",
          "name": "stdout",
          "text": [
            "Mounted at /content/drive\n"
          ]
        }
      ]
    },
    {
      "cell_type": "markdown",
      "source": [
        "# **Choose how you would like to upload your images**\n",
        "\n",
        "\n",
        "*   Cell 1: Through Google Drive (Faster method)\n",
        "*   Cell 2: Through a zip file in your PC (Slower Method)\n",
        "\n",
        "Prerequisites:\n",
        "*   For Cell 1 make sure you have uploaded your dataset to your drive\n",
        "*   For Cell 2 make sure you have a zipped file of your dataset on your PC\n"
      ],
      "metadata": {
        "id": "TEHWwae5fpoH"
      }
    },
    {
      "cell_type": "code",
      "source": [
        "# @title Cell 1\n",
        "\n",
        "import shutil\n",
        "\n",
        "# Define the path to the temporary directory in Google Colab\n",
        "temp_directory = '/content/temp'\n",
        "\n",
        "# Create the temporary directory if it doesn't exist\n",
        "os.makedirs(temp_directory, exist_ok=True)\n",
        "\n",
        "# Move images from Google Drive to the temporary directory\n",
        "drive_images_folder = '/content/drive/MyDrive/rgb'           #Change the path here according to your own drive\n",
        "for file_name in os.listdir(drive_images_folder):\n",
        "    source_file_path = os.path.join(drive_images_folder, file_name)\n",
        "    if os.path.isfile(source_file_path):\n",
        "        shutil.copy(source_file_path, temp_directory)\n",
        "\n",
        "# Move images from the temporary directory to the 'images' folder\n",
        "for file_name in os.listdir(temp_directory):\n",
        "    source_file_path = os.path.join(temp_directory, file_name)\n",
        "    target_file_path = os.path.join(images_folder, file_name)\n",
        "    shutil.move(source_file_path, target_file_path)\n",
        "\n",
        "# Clean up the temporary directory\n",
        "shutil.rmtree(temp_directory)\n",
        "\n",
        "print(\"Images uploaded and moved successfully.\")"
      ],
      "metadata": {
        "cellView": "form",
        "id": "PFk-fN7r5HDD"
      },
      "execution_count": null,
      "outputs": []
    },
    {
      "cell_type": "code",
      "source": [
        "# @title Cell 2\n",
        "\n",
        "from google.colab import files\n",
        "import os\n",
        "import zipfile\n",
        "\n",
        "# Upload the zip file containing images\n",
        "uploaded = files.upload()\n",
        "\n",
        "# Extract the uploaded zip file\n",
        "total_images_extracted = 0\n",
        "for filename in uploaded.keys():\n",
        "    with zipfile.ZipFile(filename, 'r') as zip_ref:\n",
        "        zip_ref.extractall()\n",
        "        total_images_extracted += len([name for name in zip_ref.namelist() if os.path.splitext(name)[1] in ['.jpg', '.jpeg', '.png']])\n",
        "\n",
        "# Define the directory where you want to move the images\n",
        "destination_path = '/content/DDPM-model/data/train/images'\n",
        "\n",
        "# Create the destination directory if it doesn't exist\n",
        "if not os.path.exists(destination_path):\n",
        "    os.makedirs(destination_path)\n",
        "\n",
        "# Move the images to the destination directory\n",
        "for root, dirs, files in os.walk('/content'):\n",
        "    for file in files:\n",
        "        if file.endswith('.jpg') or file.endswith('.jpeg') or file.endswith('.png'):\n",
        "            os.rename(os.path.join(root, file), os.path.join(destination_path, file))\n",
        "\n",
        "print(f\"Images have been moved to: {destination_path}\")\n",
        "print(f\"Total number of images found in the zip file: {total_images_extracted}\")\n"
      ],
      "metadata": {
        "id": "hcIuXkOXX8SA",
        "cellView": "form"
      },
      "execution_count": null,
      "outputs": []
    },
    {
      "cell_type": "markdown",
      "source": [
        "# **Display a sample of your dataset**"
      ],
      "metadata": {
        "id": "NuzWglFs5M8_"
      }
    },
    {
      "cell_type": "code",
      "source": [
        "import os\n",
        "import random\n",
        "import math\n",
        "from PIL import Image\n",
        "import matplotlib.pyplot as plt\n",
        "# @title Use the slider to select how many to display\n",
        "num_images_to_display = 14  # @param {type:\"slider\", min:0, max:100, step:1}\n",
        "\n",
        "# Define the directory containing the images\n",
        "directory = '/content/DDPM-model/data/train/images'\n",
        "\n",
        "# Get a list of all image files in the directory\n",
        "image_files = [os.path.join(directory, f) for f in os.listdir(directory) if f.endswith('.jpg') or f.endswith('.jpeg') or f.endswith('.png')]\n",
        "\n",
        "# Determine the total number of images in the folder\n",
        "total_images = len(image_files)\n",
        "\n",
        "# Check if the number of images to display exceeds the total number of images available\n",
        "if num_images_to_display > total_images:\n",
        "    raise ValueError(\"Number of images to display exceeds the total number of images available.\")\n",
        "\n",
        "# Randomly select a subset of images\n",
        "selected_images = random.sample(image_files, min(num_images_to_display, total_images))\n",
        "\n",
        "# Calculate the number of rows and columns for the grid\n",
        "num_cols = 3\n",
        "num_rows = math.ceil(len(selected_images) / num_cols)\n",
        "\n",
        "# Create subplots\n",
        "fig, axes = plt.subplots(num_rows, num_cols, figsize=(12, 8))\n",
        "\n",
        "# Flatten the axes array\n",
        "axes = axes.flatten()\n",
        "\n",
        "# Loop through selected images and display them\n",
        "for i, img_path in enumerate(selected_images):\n",
        "    img = Image.open(img_path)\n",
        "    axes[i].imshow(img)\n",
        "    axes[i].axis('off')\n",
        "\n",
        "# Hide empty subplots\n",
        "for j in range(len(selected_images), num_cols * num_rows):\n",
        "    axes[j].axis('off')\n",
        "\n",
        "plt.tight_layout()\n",
        "plt.show()\n"
      ],
      "metadata": {
        "cellView": "form",
        "id": "jxLitpKlzT4u"
      },
      "execution_count": null,
      "outputs": []
    },
    {
      "cell_type": "markdown",
      "source": [
        "# **Begin Training**\n",
        "Run this if you want to train a fresh copy on a different dataset.\n",
        "\n",
        "The default paramters are:\n",
        "\n",
        "1.   Batch size : 6 (Training not posible above 100 if using Colab free and T4 GPU)\n",
        "2.   Number of epochs: 200\n",
        "3.   Folder where trained model file and samples are saved save to: trained_model\n",
        "\n",
        "To learn how Batch size and no. of epoch effect your trained model file:\n",
        "<details>\n",
        "  <summary>Read more</summary>\n",
        "  <p>\n",
        "*   Batch Size: Dictates the number of training samples processed in one iteration, impacting memory usage and training speed; larger batches often accelerate training but might hinder model generalization.\n",
        "*   Epoch: Represents one complete pass through the entire training dataset; more epochs can enhance model learning but may lead to overfitting, while fewer epochs might result in underfitting. Finding the right balance is crucial for optimal model performance.\n",
        "  </p>\n",
        "</details>"
      ],
      "metadata": {
        "id": "CRAepqb0W9oL"
      }
    },
    {
      "cell_type": "code",
      "source": [
        "from google.colab import files\n",
        "import yaml\n",
        "\n",
        "# @title Change training parameters or run with defaults\n",
        "\n",
        "# Parameters to be set using the @params widget\n",
        "Batch_size = 0  # @param {type:\"slider\", min:0, max:100, step:1}\n",
        "Num_epochs = 200 # @param {type:\"slider\", min:0, max:500, step:1}\n",
        "Folder = \"trained_model\" # @param {type:\"string\"}\n",
        "\n",
        "# Load the existing YAML file\n",
        "existing_file_path = '/content/DDPM-model/config/default.yaml'\n",
        "with open(existing_file_path, 'r') as file:\n",
        "    config = yaml.safe_load(file)\n",
        "\n",
        "# Define the training parameters to be changed\n",
        "new_training_params = {\n",
        "    'batch_size': Batch_size,\n",
        "    'num_epochs': Num_epochs,\n",
        "    'task_name': Folder\n",
        "    # Add more parameters here if needed\n",
        "}\n",
        "\n",
        "# Update the training parameters in the config\n",
        "config['train_params'].update(new_training_params)\n",
        "\n",
        "# Save the modified train_params back to the config\n",
        "with open(existing_file_path, 'w') as file:\n",
        "    yaml.dump(config, file, default_flow_style=False)\n",
        "\n",
        "print(\"Training parameters updated successfully.\")\n",
        "\n",
        "!python -m tools.train_ddpm\n"
      ],
      "metadata": {
        "id": "gJonvdHIWxQc",
        "cellView": "form"
      },
      "execution_count": null,
      "outputs": []
    },
    {
      "cell_type": "markdown",
      "source": [
        "# **Choose how you would like to upload the pre-trained model file**\n",
        "\n",
        "\n",
        "*   Cell 1: Through Google Drive (Faster method)\n",
        "*   Cell 2: Through your PC (Slower Method)\n",
        "\n",
        "**Note**: By default the pre-trained model file will be saved to the 'trained_model' folder with samples also being generated there by default\n",
        "\n",
        "Prerequisites:\n",
        "*   For Cell 1 make sure you have uploaded your dataset to your drive\n",
        "*   For Cell 2 make sure you have downladed the pre-trained model file (ddpm_ckpt.pth) on your PC\n",
        "\n"
      ],
      "metadata": {
        "id": "vaS_PES4p3G5"
      }
    },
    {
      "cell_type": "code",
      "source": [
        "# @title Cell 1\n",
        "\n",
        "import os\n",
        "import shutil\n",
        "\n",
        "def create_default_folder_with_file(file_path):\n",
        "    # Create a folder named 'trained_model'\n",
        "    os.makedirs('trained_model', exist_ok=True)\n",
        "\n",
        "    # Extract the filename from the provided path\n",
        "    file_name = os.path.basename(file_path)\n",
        "\n",
        "    # Copy the file to the 'trained_model' folder\n",
        "    shutil.copy(file_path, os.path.join('trained_model', file_name))\n",
        "\n",
        "    print(f\"File '{file_name}' placed in the folder.\")\n",
        "\n",
        "if __name__ == \"__main__\":\n",
        "    # Hardcoded file path\n",
        "    file_path = \"/content/drive/MyDrive/ddpm_ckpt.pth\"  # Replace this with the actual file path from your drive\n",
        "    create_default_folder_with_file(file_path)"
      ],
      "metadata": {
        "id": "h-BD5z1ypyKk",
        "cellView": "form"
      },
      "execution_count": null,
      "outputs": []
    },
    {
      "cell_type": "code",
      "source": [
        "# @title Cell 2\n",
        "from google.colab import files\n",
        "import shutil\n",
        "\n",
        "# Upload a file from your PC\n",
        "print(\"Upload your file:\")\n",
        "uploaded = files.upload()\n",
        "\n",
        "# Get the uploaded file name\n",
        "uploaded_file_name = list(uploaded.keys())[0]\n",
        "\n",
        "# Define the destination directory\n",
        "destination_directory = '/content/DDPM-model/trained_model/'\n",
        "\n",
        "# Move the uploaded file to the destination directory\n",
        "shutil.move(uploaded_file_name, destination_directory)\n",
        "\n",
        "# Print a custom message\n",
        "print(\"File moved successfully to:\", destination_directory)\n",
        "\n"
      ],
      "metadata": {
        "cellView": "form",
        "id": "gsKxNPf4M5Vw"
      },
      "execution_count": null,
      "outputs": []
    },
    {
      "cell_type": "markdown",
      "source": [
        "# **Generate sample images**\n",
        "\n",
        "This cell will generate samples inside the \"trained_model\" folder. The \"samples\" folder should contain a total of 1000 images once generation is complete, with one image for each timestep. Your final output will be labeled as \"x0_0\".\n",
        "\n",
        "The default parameters are:\n",
        "\n",
        "*   Size of samples: 64 (Generation not posible above 100 if using Colab free and T4 GPU)\n",
        "*   Number of samples: 3\n",
        "\n"
      ],
      "metadata": {
        "id": "yVtiN2GKXKbp"
      }
    },
    {
      "cell_type": "code",
      "source": [
        "from google.colab import files\n",
        "import yaml\n",
        "\n",
        "# @title Use the slider to adjust generation parameters or run with defaults\n",
        "\n",
        "# Parameters to be set using the @params widget\n",
        "im_size = 100 # @param {type:\"slider\", min:0, max:1000, step:1}\n",
        "num_samples = 3 # @param {type:\"slider\", min:0, max:100, step:1}\n",
        "\n",
        "# Load the existing YAML file\n",
        "existing_file_path = '/content/DDPM-model/config/default.yaml'\n",
        "with open(existing_file_path, 'r') as file:\n",
        "    config = yaml.safe_load(file)\n",
        "\n",
        "# Define the dataset parameters to be changed\n",
        "new_model_params = {\n",
        "    'im_size': im_size,\n",
        "    # Add more parameters here if needed\n",
        "}\n",
        "\n",
        "new_train_params = {\n",
        "    'num_samples': num_samples\n",
        "    # Add more parameters here if needed\n",
        "}\n",
        "\n",
        "# Update the dataset parameters in the config\n",
        "config['model_params'].update(new_model_params)\n",
        "config['train_params'].update(new_train_params)\n",
        "\n",
        "# Save the modified dataset_params back to the config\n",
        "with open(existing_file_path, 'w') as file:\n",
        "    yaml.dump(config, file, default_flow_style=False)\n",
        "\n",
        "print(\"Parameters updated successfully.\")\n",
        "\n",
        "\n",
        "\n",
        "\n",
        "\n",
        "\n",
        "!python -m tools.sample_ddpm\n"
      ],
      "metadata": {
        "id": "bIqDmjSdXJBc",
        "colab": {
          "base_uri": "https://localhost:8080/"
        },
        "cellView": "form",
        "outputId": "c911c594-5122-4d8e-d037-4ec6c3471a8d"
      },
      "execution_count": 3,
      "outputs": [
        {
          "output_type": "stream",
          "name": "stdout",
          "text": [
            "Parameters updated successfully.\n",
            "{'dataset_params': {'im_path': 'data/train/'}, 'diffusion_params': {'beta_end': 0.02, 'beta_start': 0.0001, 'num_timesteps': 1000}, 'model_params': {'down_channels': [32, 64, 128, 256], 'down_sample': [True, True, False], 'im_channels': 3, 'im_size': 100, 'mid_channels': [256, 256, 128], 'num_down_layers': 2, 'num_heads': 4, 'num_mid_layers': 2, 'num_up_layers': 2, 'time_emb_dim': 128}, 'train_params': {'batch_size': 10, 'ckpt_name': 'ddpm_ckpt.pth', 'lr': 0.0001, 'num_epochs': 20, 'num_grid_rows': 10, 'num_samples': 3, 'task_name': 'model1'}}\n",
            "1000it [12:16,  1.36it/s]\n"
          ]
        }
      ]
    },
    {
      "cell_type": "markdown",
      "source": [
        "# Choose how you would to like to display the output\n",
        "\n",
        "\n",
        "*   Cell 1: Display in original size\n",
        "*   Cell 2: Display in an upscaled version of the output\n",
        "\n"
      ],
      "metadata": {
        "id": "o4oVhJ8W7-VG"
      }
    },
    {
      "cell_type": "code",
      "source": [
        "# @title Cell 1\n",
        "\n",
        "import yaml\n",
        "import os\n",
        "from PIL import Image\n",
        "from IPython.display import display\n",
        "\n",
        "# Load the existing YAML file\n",
        "existing_file_path = '/content/DDPM-model/config/default.yaml'\n",
        "with open(existing_file_path, 'r') as file:\n",
        "    config = yaml.safe_load(file)\n",
        "\n",
        "# Extract the task_name from the config\n",
        "task_name = config['train_params']['task_name']\n",
        "\n",
        "# Construct the path incorporating the task_name\n",
        "task_path = os.path.join('/content/DDPM-model/', task_name, 'samples')\n",
        "\n",
        "# Print the path of the first sample image (x0_0.png)\n",
        "sample_image_path = os.path.join(task_path, 'x0_0.png')\n",
        "print(\"Path of x0_0.png:\", sample_image_path)\n",
        "\n",
        "# Open the image\n",
        "sample_image = Image.open(sample_image_path)\n",
        "\n",
        "# Display the image in the output cell\n",
        "display(sample_image)\n"
      ],
      "metadata": {
        "colab": {
          "base_uri": "https://localhost:8080/",
          "height": 138
        },
        "cellView": "form",
        "id": "pW2ElU6I0hFK",
        "outputId": "cb1e5c94-29a6-4b37-8da8-4a2b671ff59d"
      },
      "execution_count": 17,
      "outputs": [
        {
          "output_type": "stream",
          "name": "stdout",
          "text": [
            "Path of x0_0.png: /content/DDPM-model/model1/samples/x0_0.png\n"
          ]
        },
        {
          "output_type": "display_data",
          "data": {
            "text/plain": [
              "<PIL.PngImagePlugin.PngImageFile image mode=RGB size=308x104>"
            ],
            "image/png": "[encoded data removed]"
          },
          "metadata": {}
        }
      ]
    },
    {
      "cell_type": "code",
      "source": [
        "# @title Cell 2\n",
        "Scaling_factor = 2 # @param {type:\"slider\", min:0, max:10, step:1}\n",
        "from PIL import Image\n",
        "import os\n",
        "import yaml\n",
        "from IPython.display import display\n",
        "\n",
        "# Load the existing YAML file\n",
        "existing_file_path = '/content/DDPM-model/config/default.yaml'\n",
        "with open(existing_file_path, 'r') as file:\n",
        "    config = yaml.safe_load(file)\n",
        "\n",
        "# Extract the task_name from the config\n",
        "task_name = config['train_params']['task_name']\n",
        "\n",
        "# Construct the path to the samples folder\n",
        "samples_path = os.path.join('/content/DDPM-model/', task_name, 'samples')\n",
        "\n",
        "# Define the path to x0_0.png\n",
        "x0_0_path = os.path.join(samples_path, 'x0_0.png')\n",
        "\n",
        "# Open and upscale the x0_0.png image\n",
        "image = Image.open(x0_0_path)\n",
        "upscaled_image = image.resize((image.width * Scaling_factor, image.height * Scaling_factor), Image.LANCZOS)\n",
        "\n",
        "# Display the upscaled image directly in the output cell\n",
        "display(upscaled_image)\n",
        "\n"
      ],
      "metadata": {
        "colab": {
          "base_uri": "https://localhost:8080/",
          "height": 225
        },
        "cellView": "form",
        "id": "togTGooV3Is6",
        "outputId": "674448e4-ab38-48a7-edb8-5067d2c286f2"
      },
      "execution_count": 24,
      "outputs": [
        {
          "output_type": "display_data",
          "data": {
            "text/plain": [
              "<PIL.Image.Image image mode=RGB size=616x208>"
            ],
            "image/png": "[encoded data removed]"
          },
          "metadata": {}
        }
      ]
    }
  ]
}